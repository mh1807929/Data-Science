{
 "cells": [
  {
   "cell_type": "code",
   "execution_count": 1,
   "metadata": {
    "scrolled": true
   },
   "outputs": [],
   "source": [
    "import matplotlib\n",
    "from datascience import *\n",
    "%matplotlib inline\n",
    "import matplotlib.pyplot as plots\n",
    "import numpy as np\n",
    "plots.style.use('fivethirtyeight')"
   ]
  },
  {
   "cell_type": "markdown",
   "metadata": {},
   "source": [
    "## Review\n",
    "From a random sample, construct a 95% confidence interval for the ages of the mothers in the population."
   ]
  },
  {
   "cell_type": "code",
   "execution_count": 2,
   "metadata": {
    "scrolled": true
   },
   "outputs": [
    {
     "data": {
      "text/html": [
       "<table border=\"1\" class=\"dataframe\">\n",
       "    <thead>\n",
       "        <tr>\n",
       "            <th>Birth Weight</th> <th>Gestational Days</th> <th>Maternal Age</th> <th>Maternal Height</th> <th>Maternal Pregnancy Weight</th> <th>Maternal Smoker</th>\n",
       "        </tr>\n",
       "    </thead>\n",
       "    <tbody>\n",
       "        <tr>\n",
       "            <td>120         </td> <td>284             </td> <td>27          </td> <td>62             </td> <td>100                      </td> <td>False          </td>\n",
       "        </tr>\n",
       "        <tr>\n",
       "            <td>113         </td> <td>282             </td> <td>33          </td> <td>64             </td> <td>135                      </td> <td>False          </td>\n",
       "        </tr>\n",
       "        <tr>\n",
       "            <td>128         </td> <td>279             </td> <td>28          </td> <td>64             </td> <td>115                      </td> <td>True           </td>\n",
       "        </tr>\n",
       "    </tbody>\n",
       "</table>\n",
       "<p>... (1171 rows omitted)</p>"
      ],
      "text/plain": [
       "<IPython.core.display.HTML object>"
      ]
     },
     "metadata": {},
     "output_type": "display_data"
    }
   ],
   "source": [
    "# original sample\n",
    "\n",
    "births = Table.read_table('baby.csv')\n",
    "births.show(3)"
   ]
  },
  {
   "cell_type": "code",
   "execution_count": 3,
   "metadata": {
    "scrolled": true
   },
   "outputs": [],
   "source": [
    "def one_bootstrap_mean():\n",
    "    resample = births.sample()\n",
    "    return np.average(resample.column('Maternal Age'))"
   ]
  },
  {
   "cell_type": "code",
   "execution_count": 4,
   "metadata": {
    "scrolled": true
   },
   "outputs": [],
   "source": [
    "# Generate means from 3000 bootstrap samples\n",
    "num_repetitions = 3000\n",
    "bstrap_means = make_array()\n",
    "for i in np.arange(num_repetitions):\n",
    "    bstrap_means = np.append(bstrap_means, one_bootstrap_mean())"
   ]
  },
  {
   "cell_type": "code",
   "execution_count": 5,
   "metadata": {
    "scrolled": true
   },
   "outputs": [],
   "source": [
    "# Get the endpoints of the 95% confidence interval\n",
    "left = percentile(2.5, bstrap_means)\n",
    "right = percentile(97.5, bstrap_means)"
   ]
  },
  {
   "cell_type": "code",
   "execution_count": 6,
   "metadata": {
    "scrolled": false
   },
   "outputs": [
    {
     "data": {
      "image/png": "[encoded data removed]",
      "text/plain": [
       "<Figure size 600x400 with 1 Axes>"
      ]
     },
     "metadata": {},
     "output_type": "display_data"
    }
   ],
   "source": [
    "resampled_means = Table().with_columns(\n",
    "    'Bootstrap Sample Mean', bstrap_means\n",
    ")\n",
    "resampled_means.hist(bins=15)\n",
    "plots.plot([left, right], [0, 0], color='yellow', lw=8);"
   ]
  },
  {
   "cell_type": "code",
   "execution_count": 7,
   "metadata": {
    "scrolled": false
   },
   "outputs": [
    {
     "data": {
      "text/plain": [
       "(26.901192504258944, 27.554514480408859)"
      ]
     },
     "execution_count": 7,
     "metadata": {},
     "output_type": "execute_result"
    }
   ],
   "source": [
    "left, right"
   ]
  },
  {
   "cell_type": "markdown",
   "metadata": {},
   "source": [
    "## Method Based on CLT"
   ]
  },
  {
   "cell_type": "code",
   "execution_count": 8,
   "metadata": {
    "scrolled": true
   },
   "outputs": [
    {
     "name": "stdout",
     "output_type": "stream",
     "text": [
      "Sample Size: 1174\n",
      "Sample Average: 27.228279386712096\n",
      "Sample SD: 5.815360404190897\n"
     ]
    }
   ],
   "source": [
    "sampled_ages = births.column('Maternal Age')\n",
    "sample_size = len(sampled_ages)\n",
    "sample_average = np.average(sampled_ages)\n",
    "sample_SD = np.std(sampled_ages)\n",
    "\n",
    "print(f\"Sample Size: {sample_size}\")\n",
    "print(f\"Sample Average: {sample_average}\")\n",
    "print(f\"Sample SD: {sample_SD}\")"
   ]
  },
  {
   "cell_type": "markdown",
   "metadata": {},
   "source": [
    "We need to add and subtract $2 \\cdot ( \\frac{\\text{Population SD}}{\\sqrt{\\text{Sample_Size}}})$ but we don't have the population SD."
   ]
  },
  {
   "cell_type": "code",
   "execution_count": 9,
   "metadata": {
    "scrolled": true
   },
   "outputs": [
    {
     "data": {
      "text/plain": [
       "0.16972373742299796"
      ]
     },
     "execution_count": 9,
     "metadata": {},
     "output_type": "execute_result"
    }
   ],
   "source": [
    "# Try estimating it from the sample\n",
    "\n",
    "estimated_SD_of_sample_average = sample_SD / (sample_size**0.5)\n",
    "estimated_SD_of_sample_average"
   ]
  },
  {
   "cell_type": "code",
   "execution_count": 10,
   "metadata": {
    "scrolled": true
   },
   "outputs": [
    {
     "data": {
      "text/plain": [
       "(26.888831911866099, 27.567726861558093)"
      ]
     },
     "execution_count": 10,
     "metadata": {},
     "output_type": "execute_result"
    }
   ],
   "source": [
    "# Approximate 95% confidence interval for population mean\n",
    "\n",
    "sample_average - 2*estimated_SD_of_sample_average, sample_average + 2*estimated_SD_of_sample_average"
   ]
  },
  {
   "cell_type": "markdown",
   "metadata": {},
   "source": [
    "## SD of 0/1 population"
   ]
  },
  {
   "cell_type": "code",
   "execution_count": 11,
   "metadata": {
    "scrolled": true
   },
   "outputs": [
    {
     "name": "stdout",
     "output_type": "stream",
     "text": [
      "Standard Deviation: 0.4\n"
     ]
    },
    {
     "data": {
      "text/plain": [
       "array([ 1.,  1.,  0.,  0.,  0.,  0.,  0.,  0.,  0.,  0.])"
      ]
     },
     "execution_count": 11,
     "metadata": {},
     "output_type": "execute_result"
    }
   ],
   "source": [
    "# population of size 10\n",
    "\n",
    "number_of_ones = 2\n",
    "zero_one_population = np.append(np.ones(number_of_ones), np.zeros(10 - number_of_ones))\n",
    "\n",
    "print('Standard Deviation:', np.round(np.std(zero_one_population),2))\n",
    "\n",
    "zero_one_population"
   ]
  },
  {
   "cell_type": "code",
   "execution_count": 12,
   "metadata": {
    "scrolled": true
   },
   "outputs": [],
   "source": [
    "def sd_of_zero_one_population(number_of_ones):\n",
    "    \"\"\"Returns the SD of a population \n",
    "    that has 10 elements: num_ones with value 1 and (10 - num_ones) with value 0\"\"\"\n",
    "    zero_one_population = np.append(np.ones(number_of_ones), \n",
    "                                    np.zeros(10 - number_of_ones))\n",
    "    return np.std(zero_one_population)"
   ]
  },
  {
   "cell_type": "code",
   "execution_count": 13,
   "metadata": {
    "scrolled": true
   },
   "outputs": [
    {
     "data": {
      "text/html": [
       "<table border=\"1\" class=\"dataframe\">\n",
       "    <thead>\n",
       "        <tr>\n",
       "            <th>Number of Ones</th> <th>Proportion of Ones</th>\n",
       "        </tr>\n",
       "    </thead>\n",
       "    <tbody>\n",
       "        <tr>\n",
       "            <td>0             </td> <td>0                 </td>\n",
       "        </tr>\n",
       "        <tr>\n",
       "            <td>1             </td> <td>0.1               </td>\n",
       "        </tr>\n",
       "        <tr>\n",
       "            <td>2             </td> <td>0.2               </td>\n",
       "        </tr>\n",
       "        <tr>\n",
       "            <td>3             </td> <td>0.3               </td>\n",
       "        </tr>\n",
       "        <tr>\n",
       "            <td>4             </td> <td>0.4               </td>\n",
       "        </tr>\n",
       "        <tr>\n",
       "            <td>5             </td> <td>0.5               </td>\n",
       "        </tr>\n",
       "        <tr>\n",
       "            <td>6             </td> <td>0.6               </td>\n",
       "        </tr>\n",
       "        <tr>\n",
       "            <td>7             </td> <td>0.7               </td>\n",
       "        </tr>\n",
       "        <tr>\n",
       "            <td>8             </td> <td>0.8               </td>\n",
       "        </tr>\n",
       "        <tr>\n",
       "            <td>9             </td> <td>0.9               </td>\n",
       "        </tr>\n",
       "        <tr>\n",
       "            <td>10            </td> <td>1                 </td>\n",
       "        </tr>\n",
       "    </tbody>\n",
       "</table>"
      ],
      "text/plain": [
       "<IPython.core.display.HTML object>"
      ]
     },
     "metadata": {},
     "output_type": "display_data"
    }
   ],
   "source": [
    "possible_ones = np.arange(11)\n",
    "zero_one_pop = Table().with_columns(\n",
    "    'Number of Ones', possible_ones,\n",
    "    'Proportion of Ones', possible_ones / 10\n",
    ")\n",
    "zero_one_pop.show()"
   ]
  },
  {
   "cell_type": "code",
   "execution_count": 14,
   "metadata": {
    "scrolled": true
   },
   "outputs": [
    {
     "data": {
      "text/html": [
       "<table border=\"1\" class=\"dataframe\">\n",
       "    <thead>\n",
       "        <tr>\n",
       "            <th>Number of Ones</th> <th>Proportion of Ones</th> <th>Pop SD</th>\n",
       "        </tr>\n",
       "    </thead>\n",
       "    <tbody>\n",
       "        <tr>\n",
       "            <td>0             </td> <td>0                 </td> <td>0       </td>\n",
       "        </tr>\n",
       "        <tr>\n",
       "            <td>1             </td> <td>0.1               </td> <td>0.3     </td>\n",
       "        </tr>\n",
       "        <tr>\n",
       "            <td>2             </td> <td>0.2               </td> <td>0.4     </td>\n",
       "        </tr>\n",
       "        <tr>\n",
       "            <td>3             </td> <td>0.3               </td> <td>0.458258</td>\n",
       "        </tr>\n",
       "        <tr>\n",
       "            <td>4             </td> <td>0.4               </td> <td>0.489898</td>\n",
       "        </tr>\n",
       "        <tr>\n",
       "            <td>5             </td> <td>0.5               </td> <td>0.5     </td>\n",
       "        </tr>\n",
       "        <tr>\n",
       "            <td>6             </td> <td>0.6               </td> <td>0.489898</td>\n",
       "        </tr>\n",
       "        <tr>\n",
       "            <td>7             </td> <td>0.7               </td> <td>0.458258</td>\n",
       "        </tr>\n",
       "        <tr>\n",
       "            <td>8             </td> <td>0.8               </td> <td>0.4     </td>\n",
       "        </tr>\n",
       "        <tr>\n",
       "            <td>9             </td> <td>0.9               </td> <td>0.3     </td>\n",
       "        </tr>\n",
       "        <tr>\n",
       "            <td>10            </td> <td>1                 </td> <td>0       </td>\n",
       "        </tr>\n",
       "    </tbody>\n",
       "</table>"
      ],
      "text/plain": [
       "<IPython.core.display.HTML object>"
      ]
     },
     "metadata": {},
     "output_type": "display_data"
    }
   ],
   "source": [
    "sds = zero_one_pop.apply(sd_of_zero_one_population, 'Number of Ones')\n",
    "zero_one_pop = zero_one_pop.with_column('Pop SD', sds)\n",
    "zero_one_pop.show()"
   ]
  },
  {
   "cell_type": "code",
   "execution_count": 15,
   "metadata": {
    "scrolled": false
   },
   "outputs": [
    {
     "data": {
      "image/png": "[encoded data removed]",
      "text/plain": [
       "<Figure size 500x500 with 1 Axes>"
      ]
     },
     "metadata": {},
     "output_type": "display_data"
    }
   ],
   "source": [
    "zero_one_pop.scatter('Proportion of Ones', 'Pop SD')"
   ]
  },
  {
   "cell_type": "code",
   "execution_count": null,
   "metadata": {},
   "outputs": [],
   "source": []
  }
 ],
 "metadata": {
  "kernelspec": {
   "display_name": "base",
   "language": "python",
   "name": "python3"
  },
  "language_info": {
   "codemirror_mode": {
    "name": "ipython",
    "version": 3
   },
   "file_extension": ".py",
   "mimetype": "text/x-python",
   "name": "python",
   "nbconvert_exporter": "python",
   "pygments_lexer": "ipython3",
   "version": "3.12.4"
  }
 },
 "nbformat": 4,
 "nbformat_minor": 4
}
